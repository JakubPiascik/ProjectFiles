{
 "cells": [
  {
   "cell_type": "code",
   "execution_count": 2,
   "id": "b5812bd0",
   "metadata": {},
   "outputs": [],
   "source": [
    "import carla\n"
   ]
  },
  {
   "cell_type": "code",
   "execution_count": 3,
   "id": "f8bc18ce",
   "metadata": {},
   "outputs": [],
   "source": [
    "client = carla.Client('localhost', 2000)"
   ]
  },
  {
   "cell_type": "code",
   "execution_count": 9,
   "id": "d7f28523",
   "metadata": {},
   "outputs": [],
   "source": [
    "#gets spawn points and spawns\n",
    "world = client.get_world()\n",
    "spawn_points = world.get_map().get_spawn_points()\n",
    "\n",
    "vehicle_bp = world.get_blueprint_library().filter('*firetruck*')\n",
    "start_point = spawn_points[0]\n",
    "vehicle = world.try_spawn_actor(vehicle_bp[0], start_point)"
   ]
  },
  {
   "cell_type": "code",
   "execution_count": 10,
   "id": "887e98f5",
   "metadata": {},
   "outputs": [
    {
     "name": "stdout",
     "output_type": "stream",
     "text": [
      "Transform(Location(x=-64.644829, y=24.470961, z=-0.173102), Rotation(pitch=0.000656, yaw=0.159199, roll=-0.018616))\n"
     ]
    }
   ],
   "source": [
    "#gets vehicle position\n",
    "vehicle_pos = vehicle.get_transform()\n",
    "print(vehicle_pos)"
   ]
  },
  {
   "cell_type": "code",
   "execution_count": 11,
   "id": "b7d54bb7",
   "metadata": {},
   "outputs": [
    {
     "name": "stdout",
     "output_type": "stream",
     "text": [
      "Transform(Location(x=-64.644844, y=24.471010, z=0.600000), Rotation(pitch=0.000000, yaw=0.159198, roll=0.000000))\n"
     ]
    }
   ],
   "source": [
    "#start point position\n",
    "print(start_point)"
   ]
  },
  {
   "cell_type": "code",
   "execution_count": 12,
   "id": "890e6e62",
   "metadata": {},
   "outputs": [],
   "source": [
    "vehicle.set_autopilot(True)"
   ]
  },
  {
   "cell_type": "code",
   "execution_count": 13,
   "id": "d1d6d46a",
   "metadata": {},
   "outputs": [
    {
     "name": "stdout",
     "output_type": "stream",
     "text": [
      "Transform(Location(x=-64.644829, y=24.472425, z=-0.001276), Rotation(pitch=0.000055, yaw=0.159205, roll=0.000828))\n"
     ]
    }
   ],
   "source": [
    "#get position from moving car\n",
    "vehicle_pos = vehicle.get_transform()\n",
    "print(vehicle_pos)"
   ]
  },
  {
   "cell_type": "code",
   "execution_count": 14,
   "id": "5d185e91",
   "metadata": {},
   "outputs": [],
   "source": [
    "town_map = world.get_map()"
   ]
  },
  {
   "cell_type": "code",
   "execution_count": 15,
   "id": "85565efa",
   "metadata": {},
   "outputs": [
    {
     "data": {
      "text/plain": [
       "carla.libcarla.Map"
      ]
     },
     "execution_count": 15,
     "metadata": {},
     "output_type": "execute_result"
    }
   ],
   "source": [
    "type(town_map)"
   ]
  },
  {
   "cell_type": "code",
   "execution_count": 16,
   "id": "b7e77f66",
   "metadata": {},
   "outputs": [
    {
     "name": "stdout",
     "output_type": "stream",
     "text": [
      "Map(name=Carla/Maps/Town10HD_Opt)\n"
     ]
    }
   ],
   "source": [
    "print(town_map)"
   ]
  },
  {
   "cell_type": "code",
   "execution_count": 17,
   "id": "9aadc015",
   "metadata": {},
   "outputs": [],
   "source": [
    "roads = town_map.get_topology()"
   ]
  },
  {
   "cell_type": "code",
   "execution_count": 18,
   "id": "0758235b",
   "metadata": {},
   "outputs": [
    {
     "name": "stdout",
     "output_type": "stream",
     "text": [
      "[(<carla.libcarla.Waypoint object at 0x000002009AC07270>, <carla.libcarla.Waypoint object at 0x000002009AC07210>), (<carla.libcarla.Waypoint object at 0x000002009AC07330>, <carla.libcarla.Waypoint object at 0x000002009AC07630>), (<carla.libcarla.Waypoint object at 0x000002009AC075D0>, <carla.libcarla.Waypoint object at 0x000002009AC073F0>), (<carla.libcarla.Waypoint object at 0x000002009AC07390>, <carla.libcarla.Waypoint object at 0x000002009AC071B0>), (<carla.libcarla.Waypoint object at 0x000002009AC07150>, <carla.libcarla.Waypoint object at 0x000002009AC070F0>), (<carla.libcarla.Waypoint object at 0x000002009AC07570>, <carla.libcarla.Waypoint object at 0x000002009AC07690>), (<carla.libcarla.Waypoint object at 0x000002009AC076F0>, <carla.libcarla.Waypoint object at 0x000002009AC07750>), (<carla.libcarla.Waypoint object at 0x000002009AC077B0>, <carla.libcarla.Waypoint object at 0x000002009AC07810>), (<carla.libcarla.Waypoint object at 0x000002009AC07870>, <carla.libcarla.Waypoint object at 0x000002009AC078D0>), (<carla.libcarla.Waypoint object at 0x000002009AC07930>, <carla.libcarla.Waypoint object at 0x000002009AC07990>), (<carla.libcarla.Waypoint object at 0x000002009AC079F0>, <carla.libcarla.Waypoint object at 0x000002009AC07A50>), (<carla.libcarla.Waypoint object at 0x000002009AC07AB0>, <carla.libcarla.Waypoint object at 0x000002009AC07B10>), (<carla.libcarla.Waypoint object at 0x000002009AC07B70>, <carla.libcarla.Waypoint object at 0x000002009AC07BD0>), (<carla.libcarla.Waypoint object at 0x000002009AC07C30>, <carla.libcarla.Waypoint object at 0x000002009AC07C90>), (<carla.libcarla.Waypoint object at 0x000002009AC07CF0>, <carla.libcarla.Waypoint object at 0x000002009AC07D50>), (<carla.libcarla.Waypoint object at 0x000002009AC07DB0>, <carla.libcarla.Waypoint object at 0x000002009AC07E10>), (<carla.libcarla.Waypoint object at 0x000002009AC07E70>, <carla.libcarla.Waypoint object at 0x000002009AC07ED0>), (<carla.libcarla.Waypoint object at 0x000002009AC07F30>, <carla.libcarla.Waypoint object at 0x000002009AC07F90>), (<carla.libcarla.Waypoint object at 0x000002009BE01030>, <carla.libcarla.Waypoint object at 0x000002009BE01090>), (<carla.libcarla.Waypoint object at 0x000002009BE010F0>, <carla.libcarla.Waypoint object at 0x000002009BE01150>), (<carla.libcarla.Waypoint object at 0x000002009BE011B0>, <carla.libcarla.Waypoint object at 0x000002009BE01210>), (<carla.libcarla.Waypoint object at 0x000002009BE01270>, <carla.libcarla.Waypoint object at 0x000002009BE012D0>), (<carla.libcarla.Waypoint object at 0x000002009BE01330>, <carla.libcarla.Waypoint object at 0x000002009BE01390>), (<carla.libcarla.Waypoint object at 0x000002009BE013F0>, <carla.libcarla.Waypoint object at 0x000002009BE01450>), (<carla.libcarla.Waypoint object at 0x000002009BE014B0>, <carla.libcarla.Waypoint object at 0x000002009BE01510>), (<carla.libcarla.Waypoint object at 0x000002009BE01570>, <carla.libcarla.Waypoint object at 0x000002009BE015D0>), (<carla.libcarla.Waypoint object at 0x000002009BE01630>, <carla.libcarla.Waypoint object at 0x000002009BE01690>), (<carla.libcarla.Waypoint object at 0x000002009BE016F0>, <carla.libcarla.Waypoint object at 0x000002009BE01750>), (<carla.libcarla.Waypoint object at 0x000002009BE017B0>, <carla.libcarla.Waypoint object at 0x000002009BE01810>), (<carla.libcarla.Waypoint object at 0x000002009BE01870>, <carla.libcarla.Waypoint object at 0x000002009BE018D0>), (<carla.libcarla.Waypoint object at 0x000002009BE01930>, <carla.libcarla.Waypoint object at 0x000002009BE01990>), (<carla.libcarla.Waypoint object at 0x000002009BE019F0>, <carla.libcarla.Waypoint object at 0x000002009BE01A50>), (<carla.libcarla.Waypoint object at 0x000002009BE01AB0>, <carla.libcarla.Waypoint object at 0x000002009BE01B10>), (<carla.libcarla.Waypoint object at 0x000002009BE01B70>, <carla.libcarla.Waypoint object at 0x000002009BE01BD0>), (<carla.libcarla.Waypoint object at 0x000002009BE01C30>, <carla.libcarla.Waypoint object at 0x000002009BE01C90>), (<carla.libcarla.Waypoint object at 0x000002009BE01CF0>, <carla.libcarla.Waypoint object at 0x000002009BE01D50>), (<carla.libcarla.Waypoint object at 0x000002009BE01DB0>, <carla.libcarla.Waypoint object at 0x000002009BE01E10>), (<carla.libcarla.Waypoint object at 0x000002009BE01E70>, <carla.libcarla.Waypoint object at 0x000002009BE01ED0>), (<carla.libcarla.Waypoint object at 0x000002009BE01F30>, <carla.libcarla.Waypoint object at 0x000002009BE01F90>), (<carla.libcarla.Waypoint object at 0x000002009BE02030>, <carla.libcarla.Waypoint object at 0x000002009BE02090>), (<carla.libcarla.Waypoint object at 0x000002009BE020F0>, <carla.libcarla.Waypoint object at 0x000002009BE02150>), (<carla.libcarla.Waypoint object at 0x000002009BE021B0>, <carla.libcarla.Waypoint object at 0x000002009BE02210>), (<carla.libcarla.Waypoint object at 0x000002009BE02270>, <carla.libcarla.Waypoint object at 0x000002009BE022D0>), (<carla.libcarla.Waypoint object at 0x000002009BE02330>, <carla.libcarla.Waypoint object at 0x000002009BE02390>), (<carla.libcarla.Waypoint object at 0x000002009BE023F0>, <carla.libcarla.Waypoint object at 0x000002009BE02450>), (<carla.libcarla.Waypoint object at 0x000002009BE024B0>, <carla.libcarla.Waypoint object at 0x000002009BE02510>), (<carla.libcarla.Waypoint object at 0x000002009BE02570>, <carla.libcarla.Waypoint object at 0x000002009BE025D0>), (<carla.libcarla.Waypoint object at 0x000002009BE02630>, <carla.libcarla.Waypoint object at 0x000002009BE02690>), (<carla.libcarla.Waypoint object at 0x000002009BE026F0>, <carla.libcarla.Waypoint object at 0x000002009BE02750>), (<carla.libcarla.Waypoint object at 0x000002009BE027B0>, <carla.libcarla.Waypoint object at 0x000002009BE02810>), (<carla.libcarla.Waypoint object at 0x000002009BE02870>, <carla.libcarla.Waypoint object at 0x000002009BE028D0>), (<carla.libcarla.Waypoint object at 0x000002009BE02930>, <carla.libcarla.Waypoint object at 0x000002009BE02990>), (<carla.libcarla.Waypoint object at 0x000002009BE029F0>, <carla.libcarla.Waypoint object at 0x000002009BE02A50>), (<carla.libcarla.Waypoint object at 0x000002009BE02AB0>, <carla.libcarla.Waypoint object at 0x000002009BE02B10>), (<carla.libcarla.Waypoint object at 0x000002009BE02B70>, <carla.libcarla.Waypoint object at 0x000002009BE02BD0>), (<carla.libcarla.Waypoint object at 0x000002009BE02C30>, <carla.libcarla.Waypoint object at 0x000002009BE02C90>), (<carla.libcarla.Waypoint object at 0x000002009BE02CF0>, <carla.libcarla.Waypoint object at 0x000002009BE02D50>), (<carla.libcarla.Waypoint object at 0x000002009BE02DB0>, <carla.libcarla.Waypoint object at 0x000002009BE02E10>), (<carla.libcarla.Waypoint object at 0x000002009BE02E70>, <carla.libcarla.Waypoint object at 0x000002009BE02ED0>), (<carla.libcarla.Waypoint object at 0x000002009BE02F30>, <carla.libcarla.Waypoint object at 0x000002009BE02F90>), (<carla.libcarla.Waypoint object at 0x000002009BE03030>, <carla.libcarla.Waypoint object at 0x000002009BE03090>), (<carla.libcarla.Waypoint object at 0x000002009BE030F0>, <carla.libcarla.Waypoint object at 0x000002009BE03150>), (<carla.libcarla.Waypoint object at 0x000002009BE031B0>, <carla.libcarla.Waypoint object at 0x000002009BE03210>), (<carla.libcarla.Waypoint object at 0x000002009BE03270>, <carla.libcarla.Waypoint object at 0x000002009BE032D0>), (<carla.libcarla.Waypoint object at 0x000002009BE03330>, <carla.libcarla.Waypoint object at 0x000002009BE03390>), (<carla.libcarla.Waypoint object at 0x000002009BE033F0>, <carla.libcarla.Waypoint object at 0x000002009BE03450>), (<carla.libcarla.Waypoint object at 0x000002009BE034B0>, <carla.libcarla.Waypoint object at 0x000002009BE03510>), (<carla.libcarla.Waypoint object at 0x000002009BE03570>, <carla.libcarla.Waypoint object at 0x000002009BE035D0>), (<carla.libcarla.Waypoint object at 0x000002009BE03630>, <carla.libcarla.Waypoint object at 0x000002009BE03690>), (<carla.libcarla.Waypoint object at 0x000002009BE036F0>, <carla.libcarla.Waypoint object at 0x000002009BE03750>), (<carla.libcarla.Waypoint object at 0x000002009BE037B0>, <carla.libcarla.Waypoint object at 0x000002009BE03810>), (<carla.libcarla.Waypoint object at 0x000002009BE03870>, <carla.libcarla.Waypoint object at 0x000002009BE038D0>), (<carla.libcarla.Waypoint object at 0x000002009BE03930>, <carla.libcarla.Waypoint object at 0x000002009BE03990>), (<carla.libcarla.Waypoint object at 0x000002009BE039F0>, <carla.libcarla.Waypoint object at 0x000002009BE03A50>), (<carla.libcarla.Waypoint object at 0x000002009BE03AB0>, <carla.libcarla.Waypoint object at 0x000002009BE03B10>), (<carla.libcarla.Waypoint object at 0x000002009BE03B70>, <carla.libcarla.Waypoint object at 0x000002009BE03BD0>), (<carla.libcarla.Waypoint object at 0x000002009BE03C30>, <carla.libcarla.Waypoint object at 0x000002009BE03C90>), (<carla.libcarla.Waypoint object at 0x000002009BE03CF0>, <carla.libcarla.Waypoint object at 0x000002009BE03D50>), (<carla.libcarla.Waypoint object at 0x000002009BE03DB0>, <carla.libcarla.Waypoint object at 0x000002009BE03E10>), (<carla.libcarla.Waypoint object at 0x000002009BE03E70>, <carla.libcarla.Waypoint object at 0x000002009BE03ED0>), (<carla.libcarla.Waypoint object at 0x000002009BE03F30>, <carla.libcarla.Waypoint object at 0x000002009BE03F90>), (<carla.libcarla.Waypoint object at 0x000002009BE04030>, <carla.libcarla.Waypoint object at 0x000002009BE04090>), (<carla.libcarla.Waypoint object at 0x000002009BE040F0>, <carla.libcarla.Waypoint object at 0x000002009BE04150>), (<carla.libcarla.Waypoint object at 0x000002009BE041B0>, <carla.libcarla.Waypoint object at 0x000002009BE04210>), (<carla.libcarla.Waypoint object at 0x000002009BE04270>, <carla.libcarla.Waypoint object at 0x000002009BE042D0>), (<carla.libcarla.Waypoint object at 0x000002009BE04330>, <carla.libcarla.Waypoint object at 0x000002009BE04390>), (<carla.libcarla.Waypoint object at 0x000002009BE043F0>, <carla.libcarla.Waypoint object at 0x000002009BE04450>), (<carla.libcarla.Waypoint object at 0x000002009BE044B0>, <carla.libcarla.Waypoint object at 0x000002009BE04510>), (<carla.libcarla.Waypoint object at 0x000002009BE04570>, <carla.libcarla.Waypoint object at 0x000002009BE045D0>), (<carla.libcarla.Waypoint object at 0x000002009BE04630>, <carla.libcarla.Waypoint object at 0x000002009BE04690>), (<carla.libcarla.Waypoint object at 0x000002009BE046F0>, <carla.libcarla.Waypoint object at 0x000002009BE04750>), (<carla.libcarla.Waypoint object at 0x000002009BE047B0>, <carla.libcarla.Waypoint object at 0x000002009BE04810>), (<carla.libcarla.Waypoint object at 0x000002009BE04870>, <carla.libcarla.Waypoint object at 0x000002009BE048D0>), (<carla.libcarla.Waypoint object at 0x000002009BE04930>, <carla.libcarla.Waypoint object at 0x000002009BE04990>), (<carla.libcarla.Waypoint object at 0x000002009BE049F0>, <carla.libcarla.Waypoint object at 0x000002009BE04A50>), (<carla.libcarla.Waypoint object at 0x000002009BE04AB0>, <carla.libcarla.Waypoint object at 0x000002009BE04B10>), (<carla.libcarla.Waypoint object at 0x000002009BE04B70>, <carla.libcarla.Waypoint object at 0x000002009BE04BD0>), (<carla.libcarla.Waypoint object at 0x000002009BE04C30>, <carla.libcarla.Waypoint object at 0x000002009BE04C90>), (<carla.libcarla.Waypoint object at 0x000002009BE04CF0>, <carla.libcarla.Waypoint object at 0x000002009BE04D50>), (<carla.libcarla.Waypoint object at 0x000002009BE04DB0>, <carla.libcarla.Waypoint object at 0x000002009BE04E10>), (<carla.libcarla.Waypoint object at 0x000002009BE04E70>, <carla.libcarla.Waypoint object at 0x000002009BE04ED0>), (<carla.libcarla.Waypoint object at 0x000002009BE04F30>, <carla.libcarla.Waypoint object at 0x000002009BE04F90>), (<carla.libcarla.Waypoint object at 0x000002009BE05030>, <carla.libcarla.Waypoint object at 0x000002009BE05090>), (<carla.libcarla.Waypoint object at 0x000002009BE050F0>, <carla.libcarla.Waypoint object at 0x000002009BE05150>), (<carla.libcarla.Waypoint object at 0x000002009BE051B0>, <carla.libcarla.Waypoint object at 0x000002009BE05210>), (<carla.libcarla.Waypoint object at 0x000002009BE05270>, <carla.libcarla.Waypoint object at 0x000002009BE052D0>), (<carla.libcarla.Waypoint object at 0x000002009BE05330>, <carla.libcarla.Waypoint object at 0x000002009BE05390>), (<carla.libcarla.Waypoint object at 0x000002009BE053F0>, <carla.libcarla.Waypoint object at 0x000002009BE05450>), (<carla.libcarla.Waypoint object at 0x000002009BE054B0>, <carla.libcarla.Waypoint object at 0x000002009BE05510>), (<carla.libcarla.Waypoint object at 0x000002009BE05570>, <carla.libcarla.Waypoint object at 0x000002009BE055D0>), (<carla.libcarla.Waypoint object at 0x000002009BE05630>, <carla.libcarla.Waypoint object at 0x000002009BE05690>), (<carla.libcarla.Waypoint object at 0x000002009BE056F0>, <carla.libcarla.Waypoint object at 0x000002009BE05750>), (<carla.libcarla.Waypoint object at 0x000002009BE057B0>, <carla.libcarla.Waypoint object at 0x000002009BE05810>), (<carla.libcarla.Waypoint object at 0x000002009BE05870>, <carla.libcarla.Waypoint object at 0x000002009BE058D0>), (<carla.libcarla.Waypoint object at 0x000002009BE05930>, <carla.libcarla.Waypoint object at 0x000002009BE05990>), (<carla.libcarla.Waypoint object at 0x000002009BE059F0>, <carla.libcarla.Waypoint object at 0x000002009BE05A50>), (<carla.libcarla.Waypoint object at 0x000002009BE05AB0>, <carla.libcarla.Waypoint object at 0x000002009BE05B10>), (<carla.libcarla.Waypoint object at 0x000002009BE05B70>, <carla.libcarla.Waypoint object at 0x000002009BE05BD0>), (<carla.libcarla.Waypoint object at 0x000002009BE05C30>, <carla.libcarla.Waypoint object at 0x000002009BE05C90>), (<carla.libcarla.Waypoint object at 0x000002009BE05CF0>, <carla.libcarla.Waypoint object at 0x000002009BE05D50>), (<carla.libcarla.Waypoint object at 0x000002009BE05DB0>, <carla.libcarla.Waypoint object at 0x000002009BE05E10>), (<carla.libcarla.Waypoint object at 0x000002009BE05E70>, <carla.libcarla.Waypoint object at 0x000002009BE05ED0>), (<carla.libcarla.Waypoint object at 0x000002009BE05F30>, <carla.libcarla.Waypoint object at 0x000002009BE05F90>), (<carla.libcarla.Waypoint object at 0x000002009BE06030>, <carla.libcarla.Waypoint object at 0x000002009BE06090>), (<carla.libcarla.Waypoint object at 0x000002009BE060F0>, <carla.libcarla.Waypoint object at 0x000002009BE06150>), (<carla.libcarla.Waypoint object at 0x000002009BE061B0>, <carla.libcarla.Waypoint object at 0x000002009BE06210>), (<carla.libcarla.Waypoint object at 0x000002009BE06270>, <carla.libcarla.Waypoint object at 0x000002009BE062D0>), (<carla.libcarla.Waypoint object at 0x000002009BE06330>, <carla.libcarla.Waypoint object at 0x000002009BE06390>), (<carla.libcarla.Waypoint object at 0x000002009BE063F0>, <carla.libcarla.Waypoint object at 0x000002009BE06450>), (<carla.libcarla.Waypoint object at 0x000002009BE064B0>, <carla.libcarla.Waypoint object at 0x000002009BE06510>), (<carla.libcarla.Waypoint object at 0x000002009BE06570>, <carla.libcarla.Waypoint object at 0x000002009BE065D0>), (<carla.libcarla.Waypoint object at 0x000002009BE06630>, <carla.libcarla.Waypoint object at 0x000002009BE06690>), (<carla.libcarla.Waypoint object at 0x000002009BE066F0>, <carla.libcarla.Waypoint object at 0x000002009BE06750>), (<carla.libcarla.Waypoint object at 0x000002009BE067B0>, <carla.libcarla.Waypoint object at 0x000002009BE06810>), (<carla.libcarla.Waypoint object at 0x000002009BE06870>, <carla.libcarla.Waypoint object at 0x000002009BE068D0>), (<carla.libcarla.Waypoint object at 0x000002009BE06930>, <carla.libcarla.Waypoint object at 0x000002009BE06990>), (<carla.libcarla.Waypoint object at 0x000002009BE069F0>, <carla.libcarla.Waypoint object at 0x000002009BE06A50>), (<carla.libcarla.Waypoint object at 0x000002009BE06AB0>, <carla.libcarla.Waypoint object at 0x000002009BE06B10>), (<carla.libcarla.Waypoint object at 0x000002009BE06B70>, <carla.libcarla.Waypoint object at 0x000002009BE06BD0>), (<carla.libcarla.Waypoint object at 0x000002009BE06C30>, <carla.libcarla.Waypoint object at 0x000002009BE06C90>), (<carla.libcarla.Waypoint object at 0x000002009BE06CF0>, <carla.libcarla.Waypoint object at 0x000002009BE06D50>), (<carla.libcarla.Waypoint object at 0x000002009BE06DB0>, <carla.libcarla.Waypoint object at 0x000002009BE06E10>), (<carla.libcarla.Waypoint object at 0x000002009BE06E70>, <carla.libcarla.Waypoint object at 0x000002009BE06ED0>), (<carla.libcarla.Waypoint object at 0x000002009BE06F30>, <carla.libcarla.Waypoint object at 0x000002009BE06F90>), (<carla.libcarla.Waypoint object at 0x000002009BE07030>, <carla.libcarla.Waypoint object at 0x000002009BE07090>), (<carla.libcarla.Waypoint object at 0x000002009BE070F0>, <carla.libcarla.Waypoint object at 0x000002009BE07150>), (<carla.libcarla.Waypoint object at 0x000002009BE071B0>, <carla.libcarla.Waypoint object at 0x000002009BE07210>), (<carla.libcarla.Waypoint object at 0x000002009BE07270>, <carla.libcarla.Waypoint object at 0x000002009BE072D0>), (<carla.libcarla.Waypoint object at 0x000002009BE07330>, <carla.libcarla.Waypoint object at 0x000002009BE07390>), (<carla.libcarla.Waypoint object at 0x000002009BE073F0>, <carla.libcarla.Waypoint object at 0x000002009BE07450>), (<carla.libcarla.Waypoint object at 0x000002009BE074B0>, <carla.libcarla.Waypoint object at 0x000002009BE07510>), (<carla.libcarla.Waypoint object at 0x000002009BE07570>, <carla.libcarla.Waypoint object at 0x000002009BE075D0>), (<carla.libcarla.Waypoint object at 0x000002009BE07630>, <carla.libcarla.Waypoint object at 0x000002009BE07690>), (<carla.libcarla.Waypoint object at 0x000002009BE076F0>, <carla.libcarla.Waypoint object at 0x000002009BE07750>), (<carla.libcarla.Waypoint object at 0x000002009BE077B0>, <carla.libcarla.Waypoint object at 0x000002009BE07810>), (<carla.libcarla.Waypoint object at 0x000002009BE07870>, <carla.libcarla.Waypoint object at 0x000002009BE078D0>), (<carla.libcarla.Waypoint object at 0x000002009BE07930>, <carla.libcarla.Waypoint object at 0x000002009BE07990>), (<carla.libcarla.Waypoint object at 0x000002009BE079F0>, <carla.libcarla.Waypoint object at 0x000002009BE07A50>), (<carla.libcarla.Waypoint object at 0x000002009BE07AB0>, <carla.libcarla.Waypoint object at 0x000002009BE07B10>), (<carla.libcarla.Waypoint object at 0x000002009BE07B70>, <carla.libcarla.Waypoint object at 0x000002009BE07BD0>), (<carla.libcarla.Waypoint object at 0x000002009BE07C30>, <carla.libcarla.Waypoint object at 0x000002009BE07C90>), (<carla.libcarla.Waypoint object at 0x000002009BE07CF0>, <carla.libcarla.Waypoint object at 0x000002009BE07D50>), (<carla.libcarla.Waypoint object at 0x000002009BE07DB0>, <carla.libcarla.Waypoint object at 0x000002009BE07E10>), (<carla.libcarla.Waypoint object at 0x000002009BE07E70>, <carla.libcarla.Waypoint object at 0x000002009BE07ED0>), (<carla.libcarla.Waypoint object at 0x000002009BE07F30>, <carla.libcarla.Waypoint object at 0x000002009BE07F90>), (<carla.libcarla.Waypoint object at 0x000002009BE08030>, <carla.libcarla.Waypoint object at 0x000002009BE08090>), (<carla.libcarla.Waypoint object at 0x000002009BE080F0>, <carla.libcarla.Waypoint object at 0x000002009BE08150>), (<carla.libcarla.Waypoint object at 0x000002009BE081B0>, <carla.libcarla.Waypoint object at 0x000002009BE08210>), (<carla.libcarla.Waypoint object at 0x000002009BE08270>, <carla.libcarla.Waypoint object at 0x000002009BE082D0>), (<carla.libcarla.Waypoint object at 0x000002009BE08330>, <carla.libcarla.Waypoint object at 0x000002009BE08390>), (<carla.libcarla.Waypoint object at 0x000002009BE083F0>, <carla.libcarla.Waypoint object at 0x000002009BE08450>), (<carla.libcarla.Waypoint object at 0x000002009BE084B0>, <carla.libcarla.Waypoint object at 0x000002009BE08510>), (<carla.libcarla.Waypoint object at 0x000002009BE08570>, <carla.libcarla.Waypoint object at 0x000002009BE085D0>), (<carla.libcarla.Waypoint object at 0x000002009BE08630>, <carla.libcarla.Waypoint object at 0x000002009BE08690>), (<carla.libcarla.Waypoint object at 0x000002009BE086F0>, <carla.libcarla.Waypoint object at 0x000002009BE08750>), (<carla.libcarla.Waypoint object at 0x000002009BE087B0>, <carla.libcarla.Waypoint object at 0x000002009BE08810>), (<carla.libcarla.Waypoint object at 0x000002009BE08870>, <carla.libcarla.Waypoint object at 0x000002009BE088D0>), (<carla.libcarla.Waypoint object at 0x000002009BE08930>, <carla.libcarla.Waypoint object at 0x000002009BE08990>), (<carla.libcarla.Waypoint object at 0x000002009BE089F0>, <carla.libcarla.Waypoint object at 0x000002009BE08A50>), (<carla.libcarla.Waypoint object at 0x000002009BE08AB0>, <carla.libcarla.Waypoint object at 0x000002009BE08B10>), (<carla.libcarla.Waypoint object at 0x000002009BE08B70>, <carla.libcarla.Waypoint object at 0x000002009BE08BD0>), (<carla.libcarla.Waypoint object at 0x000002009BE08C30>, <carla.libcarla.Waypoint object at 0x000002009BE08C90>), (<carla.libcarla.Waypoint object at 0x000002009BE08CF0>, <carla.libcarla.Waypoint object at 0x000002009BE08D50>), (<carla.libcarla.Waypoint object at 0x000002009BE08DB0>, <carla.libcarla.Waypoint object at 0x000002009BE08E10>), (<carla.libcarla.Waypoint object at 0x000002009BE08E70>, <carla.libcarla.Waypoint object at 0x000002009BE08ED0>), (<carla.libcarla.Waypoint object at 0x000002009BE08F30>, <carla.libcarla.Waypoint object at 0x000002009BE08F90>), (<carla.libcarla.Waypoint object at 0x000002009BE09030>, <carla.libcarla.Waypoint object at 0x000002009BE09090>), (<carla.libcarla.Waypoint object at 0x000002009BE090F0>, <carla.libcarla.Waypoint object at 0x000002009BE09150>), (<carla.libcarla.Waypoint object at 0x000002009BE091B0>, <carla.libcarla.Waypoint object at 0x000002009BE09210>), (<carla.libcarla.Waypoint object at 0x000002009BE09270>, <carla.libcarla.Waypoint object at 0x000002009BE092D0>), (<carla.libcarla.Waypoint object at 0x000002009BE09330>, <carla.libcarla.Waypoint object at 0x000002009BE09390>), (<carla.libcarla.Waypoint object at 0x000002009BE093F0>, <carla.libcarla.Waypoint object at 0x000002009BE09450>), (<carla.libcarla.Waypoint object at 0x000002009BE094B0>, <carla.libcarla.Waypoint object at 0x000002009BE09510>), (<carla.libcarla.Waypoint object at 0x000002009BE09570>, <carla.libcarla.Waypoint object at 0x000002009BE095D0>), (<carla.libcarla.Waypoint object at 0x000002009BE09630>, <carla.libcarla.Waypoint object at 0x000002009BE09690>), (<carla.libcarla.Waypoint object at 0x000002009BE096F0>, <carla.libcarla.Waypoint object at 0x000002009BE09750>), (<carla.libcarla.Waypoint object at 0x000002009BE097B0>, <carla.libcarla.Waypoint object at 0x000002009BE09810>), (<carla.libcarla.Waypoint object at 0x000002009BE09870>, <carla.libcarla.Waypoint object at 0x000002009BE098D0>), (<carla.libcarla.Waypoint object at 0x000002009BE09930>, <carla.libcarla.Waypoint object at 0x000002009BE09990>), (<carla.libcarla.Waypoint object at 0x000002009BE099F0>, <carla.libcarla.Waypoint object at 0x000002009BE09A50>)]\n"
     ]
    }
   ],
   "source": [
    "print(roads)"
   ]
  },
  {
   "cell_type": "code",
   "execution_count": 19,
   "id": "2b5c2b22",
   "metadata": {},
   "outputs": [
    {
     "name": "stdout",
     "output_type": "stream",
     "text": [
      "Waypoint(Transform(Location(x=109.929878, y=-9.334196, z=0.000000), Rotation(pitch=0.000000, yaw=-89.609253, roll=0.000000)))\n"
     ]
    }
   ],
   "source": [
    "print(roads[0][0])"
   ]
  },
  {
   "cell_type": "code",
   "execution_count": 20,
   "id": "252faf06",
   "metadata": {},
   "outputs": [
    {
     "data": {
      "text/plain": [
       "200"
      ]
     },
     "execution_count": 20,
     "metadata": {},
     "output_type": "execute_result"
    }
   ],
   "source": [
    "len(roads)"
   ]
  },
  {
   "cell_type": "code",
   "execution_count": 21,
   "id": "2e885931",
   "metadata": {},
   "outputs": [],
   "source": [
    "import sys\n",
    "sys.path.append('C:\\CARLA\\CARLA_0.9.15\\WindowsNoEditor\\PythonAPI\\carla')\n",
    "from agents.navigation.global_route_planner import GlobalRoutePlanner"
   ]
  },
  {
   "cell_type": "code",
   "execution_count": 22,
   "id": "638b4f6e",
   "metadata": {},
   "outputs": [],
   "source": [
    "#Code to plan route and draw in sim\n",
    "\n",
    "sampling_resolution = 2\n",
    "\n",
    "grp = GlobalRoutePlanner(town_map, sampling_resolution)\n",
    "\n",
    "point_a = carla.Location(x=-64.644279, y=24.470943, z=-0.022815)\n",
    "point_b = carla.Location(x=-113.903656, y=14.422489, z=-0.003719)\n",
    "\n",
    "route = grp.trace_route(point_a, point_b)\n",
    "\n",
    "for waypoint in route:\n",
    "    world.debug.draw_string(waypoint[0].transform.location, '^', draw_shadow=False,\n",
    "        color=carla.Color(r=0, g=0, b=255), life_time=120.0,\n",
    "                           persistent_lines=True)"
   ]
  },
  {
   "cell_type": "code",
   "execution_count": 23,
   "id": "a7033dfd",
   "metadata": {},
   "outputs": [],
   "source": [
    "for actor in world.get_actors().filter('*vehicle*'):\n",
    "    actor.destroy()\n",
    "for sensor in world.get_actors().filter('*sensor*'):\n",
    "    actor.destroy()\n"
   ]
  },
  {
   "cell_type": "code",
   "execution_count": 24,
   "id": "88180242",
   "metadata": {},
   "outputs": [],
   "source": [
    "truck_bp = world.get_blueprint_library().filter('*firetruck*')\n",
    "mini_bp = world.get_blueprint_library().filter('*cooper_s*')\n",
    "\n",
    "truck = world.try_spawn_actor(truck_bp[0], start_point)"
   ]
  },
  {
   "cell_type": "code",
   "execution_count": 25,
   "id": "ff9ba36b",
   "metadata": {},
   "outputs": [],
   "source": [
    "spectator = world.get_spectator()\n",
    "spawn_points = world.get_map().get_spawn_points()\n",
    "start_point = spawn_points[0]\n",
    "\n",
    "spectator_pos = carla.Transform(start_point.location + carla.Location(x=20,y=10,z=4),\n",
    "                               carla.Rotation(yaw = start_point.rotation.yaw -155))\n",
    "\n",
    "spectator.set_transform(spectator_pos)"
   ]
  },
  {
   "cell_type": "code",
   "execution_count": 26,
   "id": "e4144da5",
   "metadata": {},
   "outputs": [],
   "source": [
    "mini = world.try_spawn_actor(mini_bp[0], spawn_points[10])\n",
    "\n",
    "mini_pos = carla.Transform(start_point.location + carla.Location(x=-4,z=10),\n",
    "                               carla.Rotation(yaw = start_point.rotation.yaw -0))\n",
    "\n",
    "mini.set_transform(mini_pos)"
   ]
  },
  {
   "cell_type": "code",
   "execution_count": 27,
   "id": "668ce255",
   "metadata": {},
   "outputs": [],
   "source": [
    "truck.set_autopilot(True)"
   ]
  },
  {
   "cell_type": "code",
   "execution_count": null,
   "id": "1af4a3f7",
   "metadata": {},
   "outputs": [],
   "source": []
  },
  {
   "cell_type": "code",
   "execution_count": null,
   "id": "40641afb",
   "metadata": {},
   "outputs": [],
   "source": []
  },
  {
   "cell_type": "code",
   "execution_count": null,
   "id": "b748aeee",
   "metadata": {},
   "outputs": [],
   "source": []
  }
 ],
 "metadata": {
  "kernelspec": {
   "display_name": "Python 3 (ipykernel)",
   "language": "python",
   "name": "python3"
  },
  "language_info": {
   "codemirror_mode": {
    "name": "ipython",
    "version": 3
   },
   "file_extension": ".py",
   "mimetype": "text/x-python",
   "name": "python",
   "nbconvert_exporter": "python",
   "pygments_lexer": "ipython3",
   "version": "3.7.16"
  }
 },
 "nbformat": 4,
 "nbformat_minor": 5
}
