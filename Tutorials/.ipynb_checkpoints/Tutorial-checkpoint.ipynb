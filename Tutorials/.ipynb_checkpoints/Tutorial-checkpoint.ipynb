{
 "cells": [
  {
   "cell_type": "code",
   "execution_count": 1,
   "id": "3455e19b",
   "metadata": {},
   "outputs": [],
   "source": [
    "#imports\n",
    "import carla #Carlas library\n",
    "import random #Allows for randomisation\n",
    "import cv2 #working with images from camera/sensors\n",
    "import numpy as np "
   ]
  },
  {
   "cell_type": "code",
   "execution_count": 2,
   "id": "e294c4b6",
   "metadata": {},
   "outputs": [],
   "source": [
    "client = carla.Client('localhost', 2000) #connects to the open carla client using port 2000"
   ]
  },
  {
   "cell_type": "code",
   "execution_count": 3,
   "id": "c4f7c41f",
   "metadata": {},
   "outputs": [
    {
     "data": {
      "text/plain": [
       "<carla.libcarla.World at 0x1dc0dba2880>"
      ]
     },
     "execution_count": 3,
     "metadata": {},
     "output_type": "execute_result"
    }
   ],
   "source": [
    "client.load_world('Town04')"
   ]
  },
  {
   "cell_type": "code",
   "execution_count": 4,
   "id": "c33ebdef",
   "metadata": {},
   "outputs": [
    {
     "data": {
      "text/plain": [
       "<carla.libcarla.World at 0x1dc0c36e9d0>"
      ]
     },
     "execution_count": 4,
     "metadata": {},
     "output_type": "execute_result"
    }
   ],
   "source": [
    "client.load_world('Town05')"
   ]
  },
  {
   "cell_type": "code",
   "execution_count": 5,
   "id": "97354060",
   "metadata": {},
   "outputs": [],
   "source": [
    "#Gets the world aka the environment/world and all the possible spawn points\n",
    "world = client.get_world()\n",
    "spawn_points = world.get_map().get_spawn_points()"
   ]
  },
  {
   "cell_type": "code",
   "execution_count": 6,
   "id": "c4cf57ac",
   "metadata": {},
   "outputs": [],
   "source": [
    "#Gets the blueprint of Mini car\n",
    "vehicle_bp = world.get_blueprint_library().filter('*mini*')"
   ]
  },
  {
   "cell_type": "code",
   "execution_count": 17,
   "id": "0330178c",
   "metadata": {},
   "outputs": [],
   "source": [
    "#After getting the spawn points from the world I can using the\n",
    "#random library to get a random spawn point\n",
    "#It then spawns a vehicle at that spawn point\n",
    "start_point = random.choice(spawn_points)\n",
    "vehicle = world.try_spawn_actor(vehicle_bp[0], start_point)"
   ]
  },
  {
   "cell_type": "code",
   "execution_count": 18,
   "id": "78b518b8",
   "metadata": {},
   "outputs": [],
   "source": [
    "#Set the spectators location at where the vehicle was spawned\n",
    "spectator = world.get_spectator()\n",
    "start_point.location.z = start_point.location.z+1\n",
    "spectator.set_transform(start_point)"
   ]
  },
  {
   "cell_type": "code",
   "execution_count": 9,
   "id": "0e48e4e4",
   "metadata": {},
   "outputs": [],
   "source": [
    "#Sets vehicle to autopilot\n",
    "vehicle.set_autopilot(True)"
   ]
  },
  {
   "cell_type": "code",
   "execution_count": 10,
   "id": "110f10ee",
   "metadata": {},
   "outputs": [],
   "source": [
    "#setting RGB camera using CARLA Video \n",
    "#Link - https://www.youtube.com/watch?v=om8klsBj4rc\n",
    "\n",
    "#Camera offset mounted to the car\n",
    "CAMERA_POS_Z = 1.6 #1.6mm from z axis (up from ground)\n",
    "CAMERA_POS_X = 0.9 #0.9mm from x axis (forward)\n",
    "\n",
    "camera_bp = world.get_blueprint_library().find('sensor.camera.rgb')\n",
    "camera_bp.set_attribute('image_size_x', '640')\n",
    "camera_bp.set_attribute('image_size_y', '360')\n",
    "\n",
    "camera_init_trans = carla.Transform(carla.Location(z=CAMERA_POS_Z,x=CAMERA_POS_X))\n",
    "\n",
    "#Creates a camera in the simulator\n",
    "camera = world.spawn_actor(camera_bp,camera_init_trans,attach_to=vehicle)\n",
    "\n",
    "def camera_callback(image,data_dict):\n",
    "    data_dict['image'] = np.reshape(np.copy(image.raw_data),(image.height,image.width,4))\n",
    "    \n",
    "image_w = camera_bp.get_attribute('image_size_x').as_int()\n",
    "image_h = camera_bp.get_attribute('image_size_y').as_int()\n",
    "\n",
    "camera_data = {'image': np.zeros((image_h,image_w,4))}\n",
    "#Opens a live feed from camera\n",
    "camera.listen(lambda image: camera_callback(image,camera_data))\n"
   ]
  },
  {
   "cell_type": "code",
   "execution_count": 15,
   "id": "924e38b7",
   "metadata": {},
   "outputs": [
    {
     "data": {
      "text/plain": [
       "-1"
      ]
     },
     "execution_count": 15,
     "metadata": {},
     "output_type": "execute_result"
    }
   ],
   "source": [
    "#Saves a snapshot from the camera\n",
    "img = camera_data['image']\n",
    "cv2.imshow('RGB Camera',img)\n",
    "cv2.waitKey(0)"
   ]
  },
  {
   "cell_type": "code",
   "execution_count": 19,
   "id": "8a48426f",
   "metadata": {},
   "outputs": [
    {
     "ename": "RuntimeError",
     "evalue": "trying to operate on a destroyed actor; an actor's function was called, but the actor is already destroyed.",
     "output_type": "error",
     "traceback": [
      "\u001b[1;31m---------------------------------------------------------------------------\u001b[0m",
      "\u001b[1;31mRuntimeError\u001b[0m                              Traceback (most recent call last)",
      "\u001b[1;32m~\\AppData\\Local\\Temp\\ipykernel_6004\\3027323024.py\u001b[0m in \u001b[0;36m<module>\u001b[1;34m\u001b[0m\n\u001b[0;32m      5\u001b[0m     \u001b[0mactor\u001b[0m\u001b[1;33m.\u001b[0m\u001b[0mdestroy\u001b[0m\u001b[1;33m(\u001b[0m\u001b[1;33m)\u001b[0m\u001b[1;33m\u001b[0m\u001b[1;33m\u001b[0m\u001b[0m\n\u001b[0;32m      6\u001b[0m \u001b[1;32mfor\u001b[0m \u001b[0msensor\u001b[0m \u001b[1;32min\u001b[0m \u001b[0mworld\u001b[0m\u001b[1;33m.\u001b[0m\u001b[0mget_actors\u001b[0m\u001b[1;33m(\u001b[0m\u001b[1;33m)\u001b[0m\u001b[1;33m.\u001b[0m\u001b[0mfilter\u001b[0m\u001b[1;33m(\u001b[0m\u001b[1;34m'*sensor*'\u001b[0m\u001b[1;33m)\u001b[0m\u001b[1;33m:\u001b[0m\u001b[1;33m\u001b[0m\u001b[1;33m\u001b[0m\u001b[0m\n\u001b[1;32m----> 7\u001b[1;33m     \u001b[0mactor\u001b[0m\u001b[1;33m.\u001b[0m\u001b[0mdestroy\u001b[0m\u001b[1;33m(\u001b[0m\u001b[1;33m)\u001b[0m\u001b[1;33m\u001b[0m\u001b[1;33m\u001b[0m\u001b[0m\n\u001b[0m",
      "\u001b[1;31mRuntimeError\u001b[0m: trying to operate on a destroyed actor; an actor's function was called, but the actor is already destroyed."
     ]
    }
   ],
   "source": [
    "#Cleaning up\n",
    "\n",
    "camera.stop()\n",
    "for actor in world.get_actors().filter('*vehicle*'):\n",
    "    actor.destroy()\n",
    "for sensor in world.get_actors().filter('*sensor*'):\n",
    "    actor.destroy()"
   ]
  },
  {
   "cell_type": "code",
   "execution_count": null,
   "id": "5e4c033b",
   "metadata": {},
   "outputs": [],
   "source": []
  }
 ],
 "metadata": {
  "kernelspec": {
   "display_name": "Python 3 (ipykernel)",
   "language": "python",
   "name": "python3"
  },
  "language_info": {
   "codemirror_mode": {
    "name": "ipython",
    "version": 3
   },
   "file_extension": ".py",
   "mimetype": "text/x-python",
   "name": "python",
   "nbconvert_exporter": "python",
   "pygments_lexer": "ipython3",
   "version": "3.7.16"
  }
 },
 "nbformat": 4,
 "nbformat_minor": 5
}
